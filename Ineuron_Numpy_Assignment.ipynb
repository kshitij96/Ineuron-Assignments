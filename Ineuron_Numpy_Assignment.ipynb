{
 "cells": [
  {
   "cell_type": "code",
   "execution_count": 3,
   "metadata": {},
   "outputs": [],
   "source": [
    "import numpy as np\n"
   ]
  },
  {
   "cell_type": "markdown",
   "metadata": {},
   "source": [
    "# Ans1"
   ]
  },
  {
   "cell_type": "code",
   "execution_count": 2,
   "metadata": {},
   "outputs": [
    {
     "name": "stdout",
     "output_type": "stream",
     "text": [
      "Enter the no of elemnts you want in the vector 4\n",
      "Enter the 1 element of the array 1\n",
      "Enter the 2 element of the array 2\n",
      "Enter the 3 element of the array 3\n",
      "Enter the 4 element of the array 4\n",
      "[[ 1  1  1  1]\n",
      " [ 8  4  2  1]\n",
      " [27  9  3  1]\n",
      " [64 16  4  1]]\n"
     ]
    },
    {
     "name": "stderr",
     "output_type": "stream",
     "text": [
      "<ipython-input-2-99177cb4dc3f>:4: FutureWarning: arrays to stack must be passed as a \"sequence\" type such as list or tuple. Support for non-sequence iterables such as generators is deprecated as of NumPy 1.16 and will raise an error in the future.\n",
      "  print(np.column_stack(vect**(N-i-1) for i in range(N)))\n"
     ]
    }
   ],
   "source": [
    "#function to create columns of the output matrix which are powers of the input\n",
    "\n",
    "def atv(N,vect):\n",
    "    print(np.column_stack(vect**(N-i-1) for i in range(N)))\n",
    "\n",
    "#Taking input\n",
    "l=[]\n",
    "ip= int(input(\"Enter the no of elemnts you want in the vector \"))\n",
    "\n",
    "for i in range(ip):\n",
    "    l.append(int(input(\"Enter the \"+str(i+1)+\" element of the array \")))\n",
    "    vect=np.array(l)\n",
    "\n",
    "N=vect.size\n",
    "atv(N,vect)\n"
   ]
  },
  {
   "cell_type": "markdown",
   "metadata": {},
   "source": [
    "# Ans 2"
   ]
  },
  {
   "cell_type": "code",
   "execution_count": 62,
   "metadata": {},
   "outputs": [
    {
     "name": "stdout",
     "output_type": "stream",
     "text": [
      "[5.0, 4.67, 5.67, 6.67, 9.67, 28.67]\n"
     ]
    }
   ],
   "source": [
    "#Function to print moving averages\n",
    "arr=np.array([3, 5, 7, 2, 8, 10, 11, 65, 72, 81, 99, 100, 150])\n",
    "l=[]\n",
    "count=0\n",
    "k=3\n",
    "while count< (arr.size-k+1):\n",
    "    avg=round(sum(arr[:k])/k,2)\n",
    "    l.append(avg)\n",
    "    arr=np.delete(arr,0)\n",
    "    count+=1\n",
    "print(l)"
   ]
  },
  {
   "cell_type": "code",
   "execution_count": null,
   "metadata": {},
   "outputs": [],
   "source": []
  }
 ],
 "metadata": {
  "kernelspec": {
   "display_name": "Python 3",
   "language": "python",
   "name": "python3"
  },
  "language_info": {
   "codemirror_mode": {
    "name": "ipython",
    "version": 3
   },
   "file_extension": ".py",
   "mimetype": "text/x-python",
   "name": "python",
   "nbconvert_exporter": "python",
   "pygments_lexer": "ipython3",
   "version": "3.8.5"
  }
 },
 "nbformat": 4,
 "nbformat_minor": 4
}
