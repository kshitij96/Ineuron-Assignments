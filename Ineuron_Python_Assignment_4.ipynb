{
 "cells": [
  {
   "cell_type": "markdown",
   "metadata": {},
   "source": [
    "# Ans1.1)"
   ]
  },
  {
   "cell_type": "code",
   "execution_count": 20,
   "metadata": {
    "scrolled": true
   },
   "outputs": [
    {
     "name": "stdout",
     "output_type": "stream",
     "text": [
      "Enter the length of 3 sides of the triangle\n",
      "5\n",
      "4\n",
      "4\n",
      "Area of triangle is: 7.81\n"
     ]
    }
   ],
   "source": [
    "#Parent class to take input for three sides of triangle by user\n",
    "class value:\n",
    "    def __init__(self):\n",
    "        print(\"Enter the length of 3 sides of the triangle\")\n",
    "        self.a= int(input())\n",
    "        self.b= int(input())\n",
    "        self.c= int(input())\n",
    "\n",
    "\n",
    "#Child class to calculte area of the traingle using the values given by user in the parent class\n",
    "class calc(value):\n",
    "    def result(self):\n",
    "        s=(self.a+self.b+self.c)/2\n",
    "        area=(s*(s-self.a)*(s-self.b)*(s-self.c))**0.5\n",
    "        print(\"Area of triangle is: {:.2f}\".format(area))\n",
    "\n",
    "obj1=calc()\n",
    "obj1.result()\n",
    "\n",
    "\n"
   ]
  },
  {
   "cell_type": "markdown",
   "metadata": {},
   "source": [
    "# Ans1.2)"
   ]
  },
  {
   "cell_type": "code",
   "execution_count": 14,
   "metadata": {},
   "outputs": [
    {
     "name": "stdout",
     "output_type": "stream",
     "text": [
      "Enter the no of words you want enter in the list :5\n",
      "Enter word no. 1 in the list: hsh\n",
      "Enter word no. 2 in the list: hdjsks\n",
      "Enter word no. 3 in the list: vabsjsks\n",
      "Enter word no. 4 in the list: ahsjsjsksksshahb\n",
      "Enter word no. 5 in the list: aghshsjsjskskksks\n",
      "Enter the integer with which you want to compare the length of each word: 8\n",
      "Length of each word in this list ['ahsjsjsksksshahb', 'aghshsjsjskskksks'] is greater then 8\n"
     ]
    }
   ],
   "source": [
    "#Function to give words which are greater than the given integer\n",
    "def filter_long_words():\n",
    "    words=[]\n",
    "    long_words=[]\n",
    "    no_of_words=int(input(\"Enter the no of words you want enter in the list :\"))\n",
    "    \n",
    "    for i in range(no_of_words):\n",
    "        words.append((input(\"Enter word no. \"+str(i+1)+\" in the list: \")))\n",
    "\n",
    "    n=int(input(\"Enter the integer with which you want to compare the length of each word: \"))        \n",
    "    for i in words:\n",
    "        if len(i)>n:\n",
    "            long_words.append(i)\n",
    "    return print(\"Length of each word in this list {} is greater then {}\".format(long_words,n))\n",
    "\n",
    "filter_long_words()"
   ]
  },
  {
   "cell_type": "markdown",
   "metadata": {},
   "source": [
    "# Ans2.1)"
   ]
  },
  {
   "cell_type": "code",
   "execution_count": 6,
   "metadata": {},
   "outputs": [
    {
     "name": "stdout",
     "output_type": "stream",
     "text": [
      "Enter the no of words you want enter in the list :4\n",
      "Enter word no. 1 in the list: dfs\n",
      "Enter word no. 2 in the list: adffg\n",
      "Enter word no. 3 in the list: sfsas\n",
      "Enter word no. 4 in the list: asfgfgf\n",
      "list of integers are:  [3, 5, 5, 7]\n"
     ]
    }
   ],
   "source": [
    "def words_to_integers(word):\n",
    "    l=[]\n",
    "    for i in word:\n",
    "        l.append(len(i))\n",
    "    return print(\"list of integers are: \",l)\n",
    "\n",
    "list_of_words=[]\n",
    "no_of_words= int(input(\"Enter the no of words you want enter in the list :\"))\n",
    "\n",
    "for i in range(no_of_words):\n",
    "        list_of_words.append((input(\"Enter word no. \"+str(i+1)+\" in the list: \")))\n",
    "words_to_integers(list_of_words)"
   ]
  },
  {
   "cell_type": "markdown",
   "metadata": {},
   "source": [
    "# Ans2.2)"
   ]
  },
  {
   "cell_type": "code",
   "execution_count": 8,
   "metadata": {},
   "outputs": [
    {
     "name": "stdout",
     "output_type": "stream",
     "text": [
      "Enter a character(single): ss\n",
      "Enter a character(single): s\n",
      "False\n"
     ]
    }
   ],
   "source": [
    "while True:\n",
    "    char=input(\"Enter a character(single): \")\n",
    "    if len(char)==1:\n",
    "        break\n",
    "\n",
    "\n",
    "if char == \"a\" or char ==\"e\" or char ==\"i\" or char ==\"o\" or char ==\"u\":\n",
    "    print(True)\n",
    "else:\n",
    "    print(False) "
   ]
  }
 ],
 "metadata": {
  "kernelspec": {
   "display_name": "Python 3",
   "language": "python",
   "name": "python3"
  },
  "language_info": {
   "codemirror_mode": {
    "name": "ipython",
    "version": 3
   },
   "file_extension": ".py",
   "mimetype": "text/x-python",
   "name": "python",
   "nbconvert_exporter": "python",
   "pygments_lexer": "ipython3",
   "version": "3.8.5"
  }
 },
 "nbformat": 4,
 "nbformat_minor": 4
}
