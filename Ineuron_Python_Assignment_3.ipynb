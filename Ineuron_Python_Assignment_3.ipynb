{
 "cells": [
  {
   "cell_type": "markdown",
   "metadata": {},
   "source": [
    "# 1.1)"
   ]
  },
  {
   "cell_type": "code",
   "execution_count": 138,
   "metadata": {
    "scrolled": true
   },
   "outputs": [
    {
     "name": "stdout",
     "output_type": "stream",
     "text": [
      "Enter the no of times you want to take input4\n",
      "Enter the no's you want to multiply 22\n",
      "Enter the no's you want to multiply 14\n",
      "Enter the no's you want to multiply 5\n",
      "Enter the no's you want to multiply 4\n",
      "Output of my reduce function 6160\n",
      "Output of inbuilt reduce function 6160\n"
     ]
    }
   ],
   "source": [
    "#Program to multiply given numbers\n",
    "#Taking Input\n",
    "l=[]\n",
    "number= int(input(\"Enter the no of times you want to take input\"))\n",
    "for i in range(number):\n",
    "    l.append(int(input(\"Enter the no's you want to multiply \")))\n",
    "\n",
    "#Using my own function that behaves like reduce function    \n",
    "def myreduce(n):\n",
    "    res=1\n",
    "    for i in n:\n",
    "        res=res*i\n",
    "    return res        \n",
    "    \n",
    "print(\"Output of my reduce function\", myreduce(l))\n",
    "\n",
    "#Using inbuilt reduce function\n",
    "from functools import reduce\n",
    "print(\"Output of inbuilt reduce function\",reduce(lambda x,y: x*y,l))\n",
    "    "
   ]
  },
  {
   "cell_type": "markdown",
   "metadata": {},
   "source": [
    "# 1.2)"
   ]
  },
  {
   "cell_type": "code",
   "execution_count": 142,
   "metadata": {},
   "outputs": [
    {
     "name": "stdout",
     "output_type": "stream",
     "text": [
      "Enter the no of times you want to take input 4\n",
      "Enter the numbers to check if even or not 12\n",
      "Enter the numbers to check if even or not 18\n",
      "Enter the numbers to check if even or not 25\n",
      "Enter the numbers to check if even or not 29\n",
      "Output of my own filter function, even numbers are: [12, 18]\n",
      "Output of inbuilt filter function, even numbers are: [12, 18]\n"
     ]
    }
   ],
   "source": [
    "#Program to print only even numbers.\n",
    "\n",
    "#Taking Input\n",
    "l=[]\n",
    "number= int(input(\"Enter the no of times you want to take input \"))\n",
    "for i in range(number):\n",
    "    l.append(int(input(\"Enter the numbers to check if even or not \")))\n",
    "\n",
    "#Using my own filter function\n",
    "def myfilter(n):\n",
    "    result=[]\n",
    "    for i in n:\n",
    "        if i%2==0:\n",
    "            result.append(i)\n",
    "    return result        \n",
    "\n",
    "print(\"Output of my own filter function, even numbers are:\", myfilter(l))\n",
    "\n",
    "#Using inbuilt filter function\n",
    "print(\"Output of inbuilt filter function, even numbers are:\", list(filter(lambda x: x%2==0, l)))      "
   ]
  },
  {
   "cell_type": "markdown",
   "metadata": {},
   "source": [
    "# 2.1)"
   ]
  },
  {
   "cell_type": "code",
   "execution_count": 1,
   "metadata": {},
   "outputs": [
    {
     "data": {
      "text/plain": [
       "['x', 'y', 'z', 'xx', 'yy', 'zz', 'xxx', 'yyy', 'zzz', 'xxxx', 'yyyy', 'zzzz']"
      ]
     },
     "execution_count": 1,
     "metadata": {},
     "output_type": "execute_result"
    }
   ],
   "source": [
    "[i*j for j in range(1,5) for i in \"xyz\"]"
   ]
  },
  {
   "cell_type": "markdown",
   "metadata": {},
   "source": [
    "# 2.2)"
   ]
  },
  {
   "cell_type": "code",
   "execution_count": 2,
   "metadata": {},
   "outputs": [
    {
     "data": {
      "text/plain": [
       "['x', 'xx', 'xxx', 'xxxx', 'y', 'yy', 'yyy', 'yyyy', 'z', 'zz', 'zzz', 'zzzz']"
      ]
     },
     "execution_count": 2,
     "metadata": {},
     "output_type": "execute_result"
    }
   ],
   "source": [
    "[i*j for j in \"xyz\" for i in range(1,5) ]"
   ]
  },
  {
   "cell_type": "markdown",
   "metadata": {},
   "source": [
    "# 2.3)"
   ]
  },
  {
   "cell_type": "code",
   "execution_count": 3,
   "metadata": {},
   "outputs": [
    {
     "data": {
      "text/plain": [
       "[[2], [3], [4], [3], [4], [5], [4], [5], [6]]"
      ]
     },
     "execution_count": 3,
     "metadata": {},
     "output_type": "execute_result"
    }
   ],
   "source": [
    "[[i+j] for j in range(0,3) for i in [2,3,4]]"
   ]
  },
  {
   "cell_type": "markdown",
   "metadata": {},
   "source": [
    "# 2.4)"
   ]
  },
  {
   "cell_type": "code",
   "execution_count": 4,
   "metadata": {},
   "outputs": [
    {
     "data": {
      "text/plain": [
       "[[2, 3, 4, 5], [3, 4, 5, 6], [4, 5, 6, 7], [5, 6, 7, 8]]"
      ]
     },
     "execution_count": 4,
     "metadata": {},
     "output_type": "execute_result"
    }
   ],
   "source": [
    "[[i+j for j in range(0,4)] for i in [2,3,4,5]]"
   ]
  },
  {
   "cell_type": "markdown",
   "metadata": {},
   "source": [
    "# 2.5)"
   ]
  },
  {
   "cell_type": "code",
   "execution_count": 5,
   "metadata": {},
   "outputs": [
    {
     "data": {
      "text/plain": [
       "[(1, 1), (2, 1), (3, 1), (1, 2), (2, 2), (3, 2), (1, 3), (2, 3), (3, 3)]"
      ]
     },
     "execution_count": 5,
     "metadata": {},
     "output_type": "execute_result"
    }
   ],
   "source": [
    "[(j,i) for i in range(1,4) for j in range(1,4)]"
   ]
  },
  {
   "cell_type": "code",
   "execution_count": null,
   "metadata": {},
   "outputs": [],
   "source": []
  }
 ],
 "metadata": {
  "kernelspec": {
   "display_name": "Python 3",
   "language": "python",
   "name": "python3"
  },
  "language_info": {
   "codemirror_mode": {
    "name": "ipython",
    "version": 3
   },
   "file_extension": ".py",
   "mimetype": "text/x-python",
   "name": "python",
   "nbconvert_exporter": "python",
   "pygments_lexer": "ipython3",
   "version": "3.8.5"
  }
 },
 "nbformat": 4,
 "nbformat_minor": 4
}
